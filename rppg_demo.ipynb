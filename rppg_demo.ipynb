{
  "cells": [
    {
      "cell_type": "markdown",
      "metadata": {
        "id": "LDtGQze9r-_F"
      },
      "source": [
        "---\n",
        "# **PyVHR (rppg to bvp)**\n",
        "---"
      ]
    },
    {
      "cell_type": "code",
      "execution_count": null,
      "metadata": {
        "id": "nFP37oIXuKQN"
      },
      "outputs": [],
      "source": [
        "# -- MAIN IMPORT\n",
        "\n",
        "import pyVHR as vhr\n",
        "import numpy as np\n",
        "import os\n",
        "\n",
        "# Plotting: set 'colab' for Google Colaboratory, 'notebook' otherwise\n",
        "vhr.plot.VisualizeParams.renderer = 'notebook'  # or 'notebook'"
      ]
    },
    {
      "cell_type": "code",
      "execution_count": null,
      "metadata": {
        "id": "YYKTCUkf7Y6l"
      },
      "outputs": [],
      "source": [
        "# -- LOAD A DATASET\n",
        "\n",
        "dataset_name = 'PURE'                   # the name of the python class handling it\n",
        "video_DIR = 'C:/Users/Eddie/rppg/downloaded_PURE'  # dir containing videos\n",
        "BVP_DIR = 'C:/Users/Eddie/rppg/downloaded_PURE'    # dir containing BVPs GT\n",
        "\n",
        "dataset = vhr.datasets.datasetFactory(dataset_name, videodataDIR=video_DIR, BVPdataDIR=BVP_DIR)\n",
        "allvideo = dataset.videoFilenames\n",
        "\n",
        "# print the list of video names with the progressive index (idx)\n",
        "for v in range(len(allvideo)):\n",
        "  print(v, allvideo[v])"
      ]
    },
    {
      "cell_type": "code",
      "execution_count": null,
      "metadata": {
        "id": "AKz1w2i48u-Z"
      },
      "outputs": [],
      "source": [
        "# -- PARAMETER SETTING\n",
        "\n",
        "wsize = 6           # seconds of video processed (with overlapping) for each estimate\n",
        "video_idx = 0      # index of the video to be processed\n",
        "fname = dataset.getSigFilename(video_idx)\n",
        "sigGT = dataset.readSigfile(fname)\n",
        "bpmGT, timesGT = sigGT.getBPM(wsize)\n",
        "videoFileName = dataset.getVideoFilename(video_idx)\n",
        "print('Video processed name: ', videoFileName)\n",
        "fps = vhr.extraction.get_fps(videoFileName)\n",
        "print('Video frame rate:     ',fps)"
      ]
    },
    {
      "cell_type": "code",
      "execution_count": null,
      "metadata": {
        "id": "bv3FNU0kxLI8"
      },
      "outputs": [],
      "source": [
        "# -- DISPLAY VIDEO FRAMES\n",
        "\n",
        "vhr.plot.display_video(videoFileName)"
      ]
    },
    {
      "cell_type": "code",
      "execution_count": null,
      "metadata": {
        "id": "u887ao15vrZZ"
      },
      "outputs": [],
      "source": [
        "# extract raw frames\n",
        "sp = vhr.extraction.sig_processing.SignalProcessing()\n",
        "frames = sp.extract_raw(videoFileName)\n",
        "print('Frames shape:', frames.shape)"
      ]
    },
    {
      "cell_type": "markdown",
      "metadata": {
        "id": "GnKKDdQ_ZhGO"
      },
      "source": [
        "# MTTS-CAN"
      ]
    },
    {
      "cell_type": "markdown",
      "metadata": {
        "id": "dd9-878FZc88"
      },
      "source": [
        "**DeepPhys: Video-Based Physiological Measurement Using Convolutional Attention Networks**<br>\n",
        "*利用MTTS-CAN卷積神經網路將rppg的訊號轉換成bvp等*<br>\n",
        "*Weixuan Chen and Daniel McDuff*\n",
        "\n",
        "papers:\n",
        "* [DeepPhys: Video-Based Physiological Measurement Using Convolutional Attention Networks](https://web.media.mit.edu/~cvx/docs/18.Chen-etal-ECCV.pdf),\n",
        "* [Multi-Task Temporal Shift Attention Networks for On-Device Contactless Vitals Measurement\n",
        "](https://papers.nips.cc/paper/2020/file/e1228be46de6a0234ac22ded31417bc7-Paper.pdf)\n"
      ]
    },
    {
      "cell_type": "code",
      "execution_count": null,
      "metadata": {
        "id": "e2WR2MU6L-y1"
      },
      "outputs": [],
      "source": [
        "# apply MTTS_CAN model\n",
        "bvp_pred = vhr.deepRPPG.MTTS_CAN_deep(frames, fps, verb=1)\n",
        "bvps = vhr.BPM.BVPsignal(bvp_pred, fps) # BVP object\n",
        "vhr.plot.visualize_BVPs([bvps.data], 0)"
      ]
    },
    {
      "cell_type": "code",
      "execution_count": null,
      "metadata": {
        "id": "5nVCmksezBGq"
      },
      "outputs": [],
      "source": [
        "## -- analysis\n",
        "from pyVHR.utils.errors import getErrors, printErrors, displayErrors, BVP_windowing\n",
        "\n",
        "# BVP windowing & BPM estimate\n",
        "bvp_win, timesES = BVP_windowing(bvp_pred, wsize, fps, stride=1)\n",
        "bpmES = vhr.BPM.BVP_to_BPM_cuda(bvp_win, fps)  #一開始用非cuda版本會出錯\n",
        "\n",
        "# compute and print errors\n",
        "RMSE, MAE, MAX, PCC, CCC, SNR = vhr.utils.getErrors(bvp_win, fps, bpmES, bpmGT, timesES, timesGT)\n",
        "vhr.utils.printErrors(RMSE, MAE, MAX, PCC, CCC, SNR)\n",
        "displayErrors(bpmES, bpmGT, timesES, timesGT)\n"
      ]
    },
    {
      "cell_type": "code",
      "execution_count": null,
      "metadata": {
        "id": "KrWdo0CCncZu"
      },
      "outputs": [],
      "source": [
        "print(bpmES)\n",
        "print(bpmGT)\n"
      ]
    },
    {
      "cell_type": "code",
      "execution_count": null,
      "metadata": {
        "id": "IFGsbGWIncZu"
      },
      "outputs": [],
      "source": [
        "print(bvps.data)\n",
        "print(bvps.data[0])\n",
        "print(len(bvps.data[0])) #2020筆資料(data point)\n",
        "print(timesGT) #影片長度共67s\n",
        "#sample rate計算方法為data_point/time(每秒所採集的數據點數，頻率Hz)"
      ]
    },
    {
      "cell_type": "code",
      "execution_count": null,
      "metadata": {
        "id": "jFSEYPomncZu"
      },
      "outputs": [],
      "source": [
        "%pip install pyhrv"
      ]
    },
    {
      "cell_type": "markdown",
      "metadata": {
        "id": "JGbfduJUncZv"
      },
      "source": [
        "## 用biosppy將bvp轉成rr 再用pyhrv轉成nn-interval(nn區間資料)"
      ]
    },
    {
      "cell_type": "code",
      "execution_count": null,
      "metadata": {
        "id": "I_1k093VncZv"
      },
      "outputs": [],
      "source": [
        "# 導入所需的模組\n",
        "from biosppy.signals import bvp\n",
        "\n",
        "# 計算採樣率\n",
        "num_data_points = len(bvps.data[0])\n",
        "video_duration = 67  # 視頻持續時間為 67 秒\n",
        "sampling_rate = num_data_points / video_duration\n",
        "\n",
        "# 調用 bvp 函數來處理信號\n",
        "result = bvp.bvp(signal=bvps.data[0], sampling_rate=sampling_rate, show=True)\n",
        "\"\"\"\n",
        "Process a raw BVP signal and extract relevant signal features using\n",
        "    default parameters.\n",
        "    Parameters\n",
        "    ----------\n",
        "    signal : array\n",
        "        Raw BVP signal.\n",
        "    sampling_rate : int, float, optional\n",
        "        Sampling frequency (Hz).\n",
        "    path : str, optional\n",
        "        If provided, the plot will be saved to the specified file.\n",
        "    show : bool, optional\n",
        "        If True, show a summary plot.\n",
        "    Returns\n",
        "    -------\n",
        "    ts : array\n",
        "        Signal time axis reference (seconds).\n",
        "    filtered : array\n",
        "        Filtered BVP signal.\n",
        "    onsets : array\n",
        "        Indices of BVP pulse onsets.\n",
        "    heart_rate_ts : array\n",
        "        Heart rate time axis reference (seconds).\n",
        "    heart_rate : array\n",
        "        Instantaneous heart rate (bpm).\n",
        "\"\"\""
      ]
    },
    {
      "cell_type": "code",
      "execution_count": null,
      "metadata": {
        "id": "Fz6TW31NncZv"
      },
      "outputs": [],
      "source": [
        "# 從結果對象中提取心跳的時間戳\n",
        "heart_beat_ts = result['heart_rate_ts']\n",
        "\n",
        "# 計算相鄰心跳之間的時間間隔，即 RR 間期\n",
        "rr_intervals = np.diff(heart_beat_ts)\n",
        "\n",
        "# 打印 RR 間期\n",
        "print(rr_intervals)"
      ]
    },
    {
      "cell_type": "code",
      "execution_count": null,
      "metadata": {
        "id": "58UkelTgncZv"
      },
      "outputs": [],
      "source": [
        "import pyhrv.tools as tools\n",
        "# pyvhr的時域、頻域分析的input為nn-interval，因此要先將rr轉為nn\n",
        "# Compute NNI\n",
        "nni = tools.nn_intervals(rr_intervals)"
      ]
    },
    {
      "cell_type": "markdown",
      "metadata": {
        "id": "7xU3TwyBncZv"
      },
      "source": [
        "#時域分析"
      ]
    },
    {
      "cell_type": "code",
      "execution_count": null,
      "metadata": {
        "id": "UhqWFK7gncZv"
      },
      "outputs": [],
      "source": [
        "import matplotlib.pyplot as plt\n",
        "from pyhrv import time_domain\n",
        "\n",
        "# 提取時域 HRV 參數\n",
        "sdnn = time_domain.sdnn(nni)['sdnn']  # 標準差\n",
        "rmssd = time_domain.rmssd(nni)['rmssd']  # RMSSD\n",
        "print(sdnn)\n",
        "print(rmssd)"
      ]
    },
    {
      "cell_type": "markdown",
      "metadata": {
        "id": "GGhDY_bpncZv"
      },
      "source": [
        "#頻域分析"
      ]
    },
    {
      "cell_type": "code",
      "execution_count": null,
      "metadata": {
        "id": "euzSqbDnncZv"
      },
      "outputs": [],
      "source": [
        "import pyhrv.frequency_domain as fd\n",
        "\n",
        "# Compute the PSD and frequency domain parameters\n",
        "result = fd.lomb_psd(nni=nni)\n",
        "\n",
        "# Access peak frequencies using the key 'lomb_peak'\n",
        "print(result['lomb_peak'])"
      ]
    },
    {
      "cell_type": "markdown",
      "metadata": {
        "id": "YYuRKRuiv12r"
      },
      "source": [
        "# HR-CNN"
      ]
    },
    {
      "cell_type": "markdown",
      "metadata": {
        "id": "ZVFehITSsg0X"
      },
      "source": [
        "**Visual Heart Rate Estimation with Convolutional Neural Network**\n",
        "\n",
        "Spetlik, R., Franc, V., Cech, J. and Matas, J. (2018)\n",
        "\n",
        "See http://cmp.felk.cvut.cz/~spetlrad/ecg-fitness/ for the original paper and the ECG-Fitness dataset.\n",
        "\n"
      ]
    },
    {
      "cell_type": "code",
      "execution_count": null,
      "metadata": {
        "id": "IedFvih0udEG"
      },
      "outputs": [],
      "source": [
        "# apply HR_CNN model\n",
        "bvp_pred = vhr.deepRPPG.HR_CNN_bvp_pred(frames)\n",
        "bvps = vhr.BPM.BVPsignal(bvp_pred, fps) # BVP object\n",
        "vhr.plot.visualize_BVPs([bvps.data], 0)"
      ]
    },
    {
      "cell_type": "code",
      "execution_count": null,
      "metadata": {
        "id": "_mjY5xl8ukUZ"
      },
      "outputs": [],
      "source": [
        "## -- analysis\n",
        "from pyVHR.utils.errors import getErrors, printErrors, displayErrors, BVP_windowing\n",
        "\n",
        "# BVP windowing & BPM estimate\n",
        "bvp_win, timesES = BVP_windowing(bvp_pred, wsize, fps, stride=1)\n",
        "bpmES = vhr.BPM.BVP_to_BPM_cuda(bvp_win, fps)\n",
        "\n",
        "# compute and print errors\n",
        "RMSE, MAE, MAX, PCC, CCC, SNR = vhr.utils.getErrors(bvp_win, fps, bpmES, bpmGT, timesES, timesGT)\n",
        "vhr.utils.printErrors(RMSE, MAE, MAX, PCC, CCC, SNR)\n",
        "displayErrors(bpmES, bpmGT, timesES, timesGT)"
      ]
    },
    {
      "cell_type": "markdown",
      "metadata": {
        "id": "ihwUlzmgncZw"
      },
      "source": [
        "# rPPG-Transformer"
      ]
    },
    {
      "cell_type": "markdown",
      "metadata": {
        "id": "YqT3bTNLncZw"
      },
      "source": [
        "**Improving CHROM rPPG Estimation Through Multi-patch Analysis**"
      ]
    },
    {
      "cell_type": "code",
      "execution_count": null,
      "metadata": {
        "id": "qPk4lA23ncZw"
      },
      "outputs": [],
      "source": [
        "# import for CHROM pipeline\n",
        "from pyVHR.plot.visualize import *\n",
        "from pyVHR.utils.errors import getErrors, printErrors, displayErrors, BVP_windowing"
      ]
    },
    {
      "cell_type": "code",
      "execution_count": null,
      "metadata": {
        "id": "U-e8KWokncZw"
      },
      "outputs": [],
      "source": [
        "# Test rPPG-Transformer against VIPL-HR dataset\n",
        "\n",
        "dataset_name = 'PURE'                   # the name of the python class handling it\n",
        "video_DIR = 'C:/Users/Eddie/rppg/downloaded_PURE'  # dir containing videos\n",
        "BVP_DIR = 'C:/Users/Eddie/rppg/downloaded_PURE'    # dir containing BVPs GT\n",
        "\n",
        "dataset = vhr.datasets.datasetFactory(dataset_name, videodataDIR=video_DIR, BVPdataDIR=BVP_DIR)"
      ]
    },
    {
      "cell_type": "code",
      "execution_count": null,
      "metadata": {
        "id": "4DPh_kYzncZw"
      },
      "outputs": [],
      "source": [
        "\n",
        "# -- PARAMETER SETTING\n",
        "\n",
        "wsize = 10           # seconds of video processed (with overlapping) for each estimate\n",
        "video_idx = 0     # index of the video to be processed\n",
        "fname = dataset.getSigFilename(video_idx)\n",
        "sigGT = dataset.readSigfile(fname)\n",
        "bpmGT, timesGT = sigGT.getBPM(wsize)\n",
        "videoFileName = dataset.getVideoFilename(video_idx)\n",
        "print('Video processed name: ', videoFileName)\n",
        "fps = vhr.extraction.get_fps(videoFileName)\n",
        "print('Video frame rate:     ',fps)"
      ]
    },
    {
      "cell_type": "code",
      "execution_count": null,
      "metadata": {
        "id": "_1l5KvAvncZw"
      },
      "outputs": [],
      "source": [
        "sig_extractor = vhr.extraction.SignalProcessing()\n",
        "sig_extractor.display_cuda_device()\n",
        "sig_extractor.choose_cuda_device(0)"
      ]
    },
    {
      "cell_type": "code",
      "execution_count": null,
      "metadata": {
        "id": "UnPX-FQ5ncZw"
      },
      "outputs": [],
      "source": [
        "sig_extractor.set_skin_extractor(vhr.extraction.SkinExtractionConvexHull('GPU'))"
      ]
    },
    {
      "cell_type": "code",
      "execution_count": null,
      "metadata": {
        "id": "XzEG6MF1ncZx"
      },
      "outputs": [],
      "source": [
        "# set the number of seconds (0 for all video)\n",
        "seconds = 0\n",
        "sig_extractor.set_total_frames(seconds*fps)"
      ]
    },
    {
      "cell_type": "code",
      "execution_count": null,
      "metadata": {
        "id": "jYLdFhbNncZz"
      },
      "outputs": [],
      "source": [
        "vhr.extraction.SkinProcessingParams.RGB_LOW_TH =  0\n",
        "vhr.extraction.SkinProcessingParams.RGB_HIGH_TH = 240\n",
        "\n",
        "vhr.extraction.SignalProcessingParams.RGB_LOW_TH = 0\n",
        "vhr.extraction.SignalProcessingParams.RGB_HIGH_TH = 240"
      ]
    },
    {
      "cell_type": "code",
      "execution_count": null,
      "metadata": {
        "id": "o0d_hBhTncZz"
      },
      "outputs": [],
      "source": [
        "# -- PATCHES EXTRACTION\n",
        "sig_extractor.set_square_patches_side(80.0)\n",
        "patch_sig = sig_extractor.extract_patches(videoFileName, \"squares\", \"mean\")\n",
        "print('Size: (#frames, #landmarks, #channels) = ', patch_sig.shape)"
      ]
    },
    {
      "cell_type": "code",
      "execution_count": null,
      "metadata": {
        "id": "gs92AkDxncZz"
      },
      "outputs": [],
      "source": [
        "# -- INTERACTIVE VISUALIZATION OF PATCHES\n",
        "visualize_patches_coll = sig_extractor.get_visualize_patches()\n",
        "print('Number of frames processed: ',len(visualize_patches_coll))\n",
        "vhr.plot.interactive_image_plot(visualize_patches_coll,1.0)"
      ]
    },
    {
      "cell_type": "code",
      "execution_count": null,
      "metadata": {
        "id": "VnEG5B7pncZz"
      },
      "outputs": [],
      "source": [
        "# WING OF RGB SIGNALS ON PATCHES\n",
        "windowed_patch_sig, timesES = vhr.extraction.sig_windowing(patch_sig, wsize, 1, fps)\n",
        "print('Num windows: ',len(windowed_patch_sig))\n",
        "print('Num channels and window length: ', windowed_patch_sig[0].shape)"
      ]
    },
    {
      "cell_type": "code",
      "execution_count": null,
      "metadata": {
        "id": "13gCJcrancZz"
      },
      "outputs": [],
      "source": [
        "# -- PLOT A WINDOW (randomly chosen)\n",
        "w = np.random.randint(0, len(windowed_patch_sig))  # window number\n",
        "vhr.plot.visualize_windowed_sig(windowed_patch_sig, w)"
      ]
    },
    {
      "cell_type": "code",
      "execution_count": null,
      "metadata": {
        "id": "dJypc4k7ncZz"
      },
      "outputs": [],
      "source": [
        "# -- APPLY TRESHOLDING ON RGB COLORS (suggested)\n",
        "\n",
        "filtered_windowed_patch_sig = vhr.BVP.apply_filter(windowed_patch_sig, vhr.BVP.rgb_filter_th, params={'RGB_LOW_TH': 0, 'RGB_HIGH_TH': 230})\n",
        "print('Num windows: ', len(filtered_windowed_patch_sig))\n",
        "print('Win size: (#landmarks, #channels, #frames) = ', filtered_windowed_patch_sig[1].shape)"
      ]
    },
    {
      "cell_type": "code",
      "execution_count": null,
      "metadata": {
        "id": "c4yhZ2i-ncZ0"
      },
      "outputs": [],
      "source": [
        "# -- SELECT THE FILTER CASCADE\n",
        "\n",
        "filtered_windowed_patch_sig = vhr.BVP.apply_filter(filtered_windowed_patch_sig, vhr.BVP.BPfilter, params={'order':6,'minHz':0.75,'maxHz':4.0,'fps':fps})\n",
        "#filtered_windowed_patch_sig = vhr.BVP.apply_filter(filtered_windowed_patch_sig, vhr.BVP.sg_detrend)\n",
        "#filtered_windowed_patch_sig = vhr.BVP.apply_filter(filtered_windowed_patch_sig, vhr.BVP.detrend, params={'detLambda':100})\n",
        "#filtered_windowed_patch_sig = vhr.BVP.apply_filter(filtered_windowed_patch_sig, vhr.BVP.zscore)\n",
        "#filtered_windowed_patch_sig = vhr.BVP.apply_filter(filtered_windowed_patch_sig, vhr.BVP.zeromean)\n",
        "print('Num windows: ', len(filtered_windowed_patch_sig))\n",
        "print('Win size: (#landmarks, #channels, #frames) = ', filtered_windowed_patch_sig[0].shape)"
      ]
    },
    {
      "cell_type": "code",
      "execution_count": null,
      "metadata": {
        "id": "foX1y-DbncZ0"
      },
      "outputs": [],
      "source": [
        "# -- PLOT A WINDOW (randomly chosen)\n",
        "\n",
        "w = np.random.randint(0, len(windowed_patch_sig))  # window number\n",
        "vhr.plot.visualize_windowed_sig(filtered_windowed_patch_sig, w)"
      ]
    },
    {
      "cell_type": "code",
      "execution_count": null,
      "metadata": {
        "id": "mkCH-FQjncZ0"
      },
      "outputs": [],
      "source": [
        "# -- APPLY A METHOD TO EXTRACT BVP\n",
        "\n",
        "from pyVHR.BVP import *\n",
        "\n",
        "#patch_bvps = RGB_sig_to_BVP(filtered_windowed_patch_sig, fps, device_type='cpu', method=cpu_CHROM)\n",
        "patch_bvps = RGB_sig_to_BVP(filtered_windowed_patch_sig, fps, device_type='cuda', method=cupy_CHROM)\n",
        "#patch_bvps = RGB_sig_to_BVP(filtered_windowed_patch_sig, fps, device_type='torch', method=torch_CHROM)\n",
        "#patch_bvps = RGB_sig_to_BVP(filtered_windowed_patch_sig, fps, device_type='cuda', method=cupy_POS, params={'fps':fps})\n",
        "#patch_bvps = RGB_sig_to_BVP(filtered_windowed_patch_sig, fps, device_type='cpu', method=cpu_POS, params={'fps':fps})\n",
        "#patch_bvps = RGB_sig_to_BVP(filtered_windowed_patch_sig, fps, device_type='cpu', method=cpu_LGI)\n",
        "#patch_bvps = RGB_sig_to_BVP(filtered_windowed_patch_sig, fps, device_type='cpu', method=cpu_GREEN)\n",
        "#patch_bvps = RGB_sig_to_BVP(filtered_windowed_patch_sig, fps, device_type='cpu', method=cpu_ICA, params={'component':'second_comp'})\n",
        "\n",
        "print('Number of windows: ', len(patch_bvps))\n",
        "print('Number of estimators and number of number of frames in a windows: ', patch_bvps[0].shape)"
      ]
    },
    {
      "cell_type": "code",
      "execution_count": null,
      "metadata": {
        "id": "BzKqpXkVncZ0"
      },
      "outputs": [],
      "source": [
        "# -- PLOT A WINDOW (randomly chosen)\n",
        "w = np.random.randint(0, len(windowed_patch_sig))  # window number\n",
        "vhr.plot.visualize_BVPs(patch_bvps, w)"
      ]
    },
    {
      "cell_type": "code",
      "execution_count": null,
      "metadata": {
        "id": "jw6iHPNNncZ0"
      },
      "outputs": [],
      "source": [
        "# -- APPLY BPFILTER TO BVP WINDOWED PATCHES\n",
        "\n",
        "patch_bvps = vhr.BVP.apply_filter(patch_bvps, BPfilter, params={'order':6,'minHz':0.75,'maxHz':4.0,'fps':fps})\n",
        "print('Num windows: ', len(patch_bvps))\n",
        "print('Win size: (#landmarks, #frames) = ', patch_bvps[0].shape)"
      ]
    },
    {
      "cell_type": "code",
      "execution_count": null,
      "metadata": {
        "id": "zD6FIy9JncZ0"
      },
      "outputs": [],
      "source": [
        "# -- PLOT A WINDOW (randomly chosen)\n",
        "\n",
        "w = np.random.randint(0, len(windowed_patch_sig))  # window number\n",
        "vhr.plot.visualize_BVPs(patch_bvps, w)"
      ]
    },
    {
      "cell_type": "code",
      "execution_count": null,
      "metadata": {
        "id": "jMXE3HN1ncZ1"
      },
      "outputs": [],
      "source": [
        "wind = np.random.randint(0,len(patch_bvps))  # window number\n",
        "vhr.plot.visualize_BVPs_PSD(patch_bvps, wind, fps, maxHz=10)"
      ]
    },
    {
      "cell_type": "code",
      "execution_count": null,
      "metadata": {
        "id": "JjEf5JGCncZ1"
      },
      "outputs": [],
      "source": [
        "# -- BPM ESTIMATION BY PATCHES\n",
        "#patch_bpmES = vhr.BPM.BVP_to_BPM(patch_bvps, fps)          # CPU version\n",
        "\n",
        "patch_bpmES = vhr.BPM.BVP_to_BPM_cuda(patch_bvps, fps)    # CUDA version"
      ]
    },
    {
      "cell_type": "code",
      "execution_count": null,
      "metadata": {
        "id": "zNPXGrb6ncZ1"
      },
      "outputs": [],
      "source": [
        "# -- MEDIANS OF BPMS\n",
        "\n",
        "patch_median_bpmES, MAD = vhr.BPM.BPM_median(patch_bpmES)"
      ]
    },
    {
      "cell_type": "code",
      "execution_count": null,
      "metadata": {
        "id": "e-kslKGTncZ1"
      },
      "outputs": [],
      "source": [
        "# -- VISUALIZE ALL BPMs AND MEDIANS\n",
        "vhr.plot.visualize_multi_est_BPM_vs_BPMs_list([patch_bpmES, timesES], [[patch_median_bpmES, timesES, \"medianES\"],[bpmGT, timesGT, \"GT\"]])"
      ]
    },
    {
      "cell_type": "code",
      "execution_count": null,
      "metadata": {
        "id": "Gcb6ZT3lncZ1"
      },
      "outputs": [],
      "source": [
        "# -- PRINT ERRORS USING METRICS: RMSE, MAE, MAX, PCC, CCC, SNR\n",
        "\n",
        "from pyVHR.utils.errors import getErrors, printErrors, displayErrors\n",
        "\n",
        "RMSE, MAE, MAX, PCC, CCC, SNR = getErrors(patch_bvps, fps, patch_median_bpmES, bpmGT, timesES, timesGT)\n",
        "printErrors(RMSE, MAE, MAX, PCC, CCC, SNR)\n",
        "displayErrors(patch_median_bpmES, bpmGT, timesES, timesGT)"
      ]
    },
    {
      "cell_type": "code",
      "execution_count": null,
      "metadata": {
        "id": "B4CXNA_MncZ1"
      },
      "outputs": [],
      "source": [
        "from pyVHR.deepRPPG import transformer\n",
        "\n",
        "patch_bvps = np.array(patch_bvps)\n",
        "#bvp_pred = vhr.deepRPPG.RPPG_TRANSFORMER_bvp_pred(patch_bvps[:,0:104,:])\n",
        "bvp_pred = transformer.RPPG_TRANSFORMER_bvp_pred(patch_bvps[:,0:104,:])"
      ]
    },
    {
      "cell_type": "code",
      "execution_count": null,
      "metadata": {
        "id": "UOJBXJm2ncZ1"
      },
      "outputs": [],
      "source": [
        "bvps = vhr.BPM.BVPsignal(bvp_pred, fps)\n",
        "vhr.plot.visualize_BVPs([bvps.data], 0)"
      ]
    },
    {
      "cell_type": "code",
      "execution_count": null,
      "metadata": {
        "id": "poLYQdJxncZ1"
      },
      "outputs": [],
      "source": [
        "## -- analysis\n",
        "from pyVHR.utils.errors import getErrors, printErrors, displayErrors, BVP_windowing\n",
        "\n",
        "\n",
        "\n",
        "# BVP windowing & BPM estimate\n",
        "bvp_win, timesES = BVP_windowing(bvp_pred, wsize, fps, stride=1)\n",
        "\n",
        "bpmES = vhr.BPM.BVP_to_BPM(bvp_win, fps)"
      ]
    },
    {
      "cell_type": "code",
      "execution_count": null,
      "metadata": {
        "id": "Yl3aTVIQncZ1"
      },
      "outputs": [],
      "source": [
        "# resampling\n",
        "\n",
        "bvp_win = [bvp for bvp,t in zip(bvp_win, timesES) if t in set(list(timesGT)) & set(list(timesES))]\n",
        "bpmGT = np.array([bpm for bpm,t in zip(bpmGT, timesGT) if t in set(list(timesGT)) & set(list(timesES))])\n",
        "bpmES = np.array([bpm for bpm,t in zip(bpmES, timesES) if t in set(list(timesGT)) & set(list(timesES))])\n",
        "timesGT = np.array([t for t in timesGT if t in set(timesGT) & set(list(timesES))])\n",
        "timesES = np.array([t for t in timesES if t in set(timesGT) & set(list(timesES))])"
      ]
    },
    {
      "cell_type": "code",
      "execution_count": null,
      "metadata": {
        "id": "Mc2WMO_VncZ1"
      },
      "outputs": [],
      "source": [
        "# filter out bad GT frames\n",
        "\n",
        "bvp_win_filt = [bvp for bvp, bpm in zip(bvp_win, bpmGT) if bpm <= 150]\n",
        "bpmGT_filt = [bpm for bpm in bpmGT if bpm <= 150]\n",
        "bpmES_filt = [bpm for bpm_gt, bpm  in zip(bpmGT, bpmES) if bpm_gt <= 150]\n",
        "timesGT_filt =  [t for t, bpm_gt in zip(timesGT, bpmGT) if bpm_gt <= 150]\n",
        "timesES_filt = [t for t, bpm_gt  in zip(timesES, bpmGT) if bpm_gt <= 150]"
      ]
    },
    {
      "cell_type": "code",
      "execution_count": null,
      "metadata": {
        "id": "k--CnN9WncZ2"
      },
      "outputs": [],
      "source": [
        "# compute and print errors\n",
        "RMSE, MAE, MAX, PCC, CCC, SNR = vhr.utils.getErrors(bvp_win_filt, fps, bpmES_filt, bpmGT_filt, timesES_filt, timesGT_filt)\n",
        "vhr.utils.printErrors(RMSE, MAE, MAX, PCC, CCC, SNR)\n",
        "displayErrors(bpmES_filt, bpmGT_filt, timesES_filt, timesGT_filt)"
      ]
    }
  ],
  "metadata": {
    "colab": {
      "collapsed_sections": [
        "LDtGQze9r-_F",
        "GnKKDdQ_ZhGO",
        "YYuRKRuiv12r"
      ],
      "private_outputs": true,
      "provenance": []
    },
    "kernelspec": {
      "display_name": "Python 3 (ipykernel)",
      "language": "python",
      "name": "python3"
    },
    "language_info": {
      "codemirror_mode": {
        "name": "ipython",
        "version": 3
      },
      "file_extension": ".py",
      "mimetype": "text/x-python",
      "name": "python",
      "nbconvert_exporter": "python",
      "pygments_lexer": "ipython3",
      "version": "3.9.7"
    }
  },
  "nbformat": 4,
  "nbformat_minor": 0
}